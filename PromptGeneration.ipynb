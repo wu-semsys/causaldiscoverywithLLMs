{
 "cells": [
  {
   "cell_type": "code",
   "execution_count": 1,
   "metadata": {},
   "outputs": [],
   "source": [
    "import pandas as pd\n",
    "import pandas as pd\n",
    "import csv\n",
    "import os"
   ]
  },
  {
   "cell_type": "code",
   "execution_count": 16,
   "metadata": {},
   "outputs": [],
   "source": [
    "def add_text(text, file_path):   \n",
    "    with open(file_path, 'r') as file:\n",
    "        text += file.read() + \"\\n\\n\"\n",
    "    return text\n",
    "\n",
    "def add_csv(text, file_path):\n",
    "    with open(file_path, 'r') as file:\n",
    "        reader = csv.reader(file)\n",
    "        for row in reader:\n",
    "            formatted_row = [f'\"{cell}\"' if \",\" in cell else cell for cell in row]\n",
    "            text += \", \".join(formatted_row) + \"\\n\"\n",
    "        text += \"\\n\"\n",
    "    return text\n",
    "\n",
    "def save_to_file(text, file_path):\n",
    "    with open(file_path, \"w\", encoding=\"utf-8\") as output_file:\n",
    "                output_file.write(text)\n",
    "\n",
    "def excel_to_csv(source):\n",
    "        # Read the Excel file\n",
    "        with pd.ExcelFile(source+\".xlsx\") as xls:  \n",
    "        # Loop through each sheet in the Excel file\n",
    "            for sheet_name in xls.sheet_names:\n",
    "                # Read the sheet into a DataFrame\n",
    "                df = pd.read_excel(source+\".xlsx\", sheet_name=sheet_name)\n",
    "                \n",
    "                # Construct the output file path\n",
    "                output_file = f\"./{source}/{sheet_name}.csv\"\n",
    "                \n",
    "                # Write the DataFrame to a CSV file\n",
    "                df.to_csv(output_file, index=False)\n",
    "\n",
    "#excel_to_csv(\"UseCase2\")\n"
   ]
  },
  {
   "cell_type": "markdown",
   "metadata": {},
   "source": [
    "# Set which use case to use in the following workflow:"
   ]
  },
  {
   "cell_type": "code",
   "execution_count": 10,
   "metadata": {},
   "outputs": [],
   "source": [
    "useCase = \"UseCase1\"\n",
    "LLM = \"GPT\""
   ]
  },
  {
   "cell_type": "markdown",
   "metadata": {},
   "source": [
    "# Setting1: Full Workflow by the LLM"
   ]
  },
  {
   "cell_type": "code",
   "execution_count": 20,
   "metadata": {},
   "outputs": [
    {
     "name": "stdout",
     "output_type": "stream",
     "text": [
      "Let’s define a concise “meta-language” for clarity. Whenever the following terms are used, they carry the meanings below:\n",
      "Platform\n",
      "A Platform is any device, facility, or logical group that can host sensors measuring data.\n",
      "Devices, facilities, and logical groupings are all considered Platforms in the SENSE stack.\n",
      "Platform Type\n",
      "A type of Platform. Each Platform has a Platform Type.\n",
      "Sensor\n",
      "A Sensor measures some property in the system and is always hosted by a Platform.\n",
      "Each sensor is physically or logically located on exactly one Platform.\n",
      "hostedBy\n",
      "A hierarchical relationship indicating that a sub-platform (or a sensor) is hosted by a higher-level Platform.\n",
      "The first (top-level) Platform is typically considered the “host,” and any nested Platforms or Sensors are said to be hostedBy it.\n",
      "\n",
      "I have tabular data, and I would like it transformed into a descriptive natural language\n",
      "format where each row is expressed as a sentence. The first row contains headers, and\n",
      "subsequent rows contain values. The transformation should follow this pattern:\n",
      "Example Input:\n",
      "Platform, PlatformType, hostedBy_Platform\n",
      "PlatformA, TypeX, PlatformB\n",
      "\n",
      "Sensor\thostedBy_Platform\tobserves_ObservableProperty\n",
      "SensorA PlatformA ObservablePropertyA\n",
      "\n",
      "Example Result:\n",
      "• ItemA is a type of TypeX.\n",
      "\n",
      "If a cell is blank or missing, describe it appropriately. For example:\n",
      "“ItemX does not have a type.”\n",
      "Use your general knowledge and reasoning capabilities to decide the relation between the\n",
      "columns. It does not necessarily have to be “is a type of,” but could also reflect a totally\n",
      "different relation depending on the context of the data.\n",
      "Now transform the following table into the same format:\n",
      "...\n",
      "\n",
      "\n",
      "Platform, PlatformType, hostedBy_Platform\n",
      "Garage1, Garage, \n",
      "EVChargerDelta1, EVCharger, AllEVChargers1\n",
      "EVChargerKeba1, EVCharger, AllEVChargers1\n",
      "EVChargerKeba2, EVCharger, AllEVChargers1\n",
      "EVChargerKeba3, EVCharger, AllEVChargers1\n",
      "EVCharger1, EVCharger, AllEVChargers1\n",
      "EVCharger2, EVCharger, AllEVChargers1\n",
      "EVCharger3, EVCharger, AllEVChargers1\n",
      "EVChargerSiCharge1, EVCharger, AllEVChargers1\n",
      "Battery1, Battery, BatteryOverview\n",
      "Battery2, Battery, BatteryOverview\n",
      "BatteryOverview, Battery, Garage1\n",
      "PVSystem1, PVSystem, Garage1\n",
      "AllEVChargers1, AllEVCharger, Garage1\n",
      "\n",
      "Sensor, hostedBy_Platform, observes_ObservableProperty\n",
      "AP_Garage1_Sensor, Garage1, ActivePower\n",
      "OE_Garage1_Sensor, Garage1, OperatingEnvelope\n",
      "AP_AllEVChargers1_Sensor, AllEVChargers1, ActivePower\n",
      "EnvelopeViolation_Garage1_Sensor, Garage1, EnvelopeViolation\n",
      "AP_EVChargerDelta1_Sensor, EVChargerDelta1, ActivePower\n",
      "AP_EVChargerKeba1_Sensor, EVChargerKeba1, ActivePower\n",
      "AP_EVChargerKeba2_Sensor, EVChargerKeba2, ActivePower\n",
      "AP_EVChargerKeba3_Sensor, EVChargerKeba3, ActivePower\n",
      "AP_EVCharger1_Sensor, EVCharger1, ActivePower\n",
      "AP_EVCharger2_Sensor, EVCharger2, ActivePower\n",
      "AP_EVCharger3_Sensor, EVCharger3, ActivePower\n",
      "AP_EVChargerSiCharge1_Sensor, EVChargerSiCharge1, ActivePower\n",
      "AP_Battery1_Sensor, Battery1, ActivePower\n",
      "SOC_Battery1_Sensor, Battery1, StateOfCharge\n",
      "AP_Battery2_Sensor, Battery2, ActivePower\n",
      "SOC_Battery2_Sensor, Battery2, StateOfCharge\n",
      "AP_BatteryOverview_Sensor, BatteryOverview, ActivePower\n",
      "SOC_BatteryOverview_Sensor, BatteryOverview, StateOfCharge\n",
      "AP_PVSystem1_Sensor, PVSystem1, ActivePower\n",
      "\n",
      "...\n",
      "Please summarize the provided data and locate it within the context of related topics.\n",
      "If there are issues, let me know.\n",
      "\n",
      "\n"
     ]
    }
   ],
   "source": [
    "prompt1 = \"\"\n",
    "\n",
    "prompt1 = add_text(prompt1, \"00_generalDefinition.txt\")\n",
    "prompt1 = add_text(prompt1, \"01_1_dataInput.txt\")\n",
    "prompt1 = add_csv(prompt1, useCase+\"/Platforms.csv\")\n",
    "prompt1 = add_csv(prompt1, useCase+\"/Sensors.csv\")\n",
    "prompt1 = add_text(prompt1, \"01_2_dataInput.txt\")\n",
    "\n",
    "save_to_file(prompt1, useCase + \"/Setting1/s1_prompt1.txt\")"
   ]
  },
  {
   "cell_type": "code",
   "execution_count": 21,
   "metadata": {},
   "outputs": [],
   "source": [
    "prompt2 = \"\"\n",
    "\n",
    "prompt2 = add_text(prompt2, \"02_1_StateTypes.txt\")\n",
    "prompt2 = add_text(prompt2, useCase+\"/TriggerState.txt\")\n",
    "prompt2 = add_text(prompt2, \"02_2_StateTypes.txt\")\n",
    "\n",
    "save_to_file(prompt2, useCase + \"/Setting1/s1_prompt2.txt\")"
   ]
  },
  {
   "cell_type": "code",
   "execution_count": 24,
   "metadata": {},
   "outputs": [],
   "source": [
    "prompt3 = \"\"\n",
    "\n",
    "prompt3 = add_text(prompt3, \"03_1_causalRelations.txt\")\n",
    "prompt3 += \"Use the defined StateTypes from the previous prompt. \\n\"\n",
    "prompt3 = add_text(prompt3, \"03_2_causalRelations.txt\")\n",
    "\n",
    "save_to_file(prompt3, useCase + \"/Setting1/s1_prompt3.txt\")"
   ]
  },
  {
   "cell_type": "markdown",
   "metadata": {},
   "source": [
    "# Setting2: use ground truth data for each step."
   ]
  },
  {
   "cell_type": "code",
   "execution_count": null,
   "metadata": {},
   "outputs": [],
   "source": [
    "prompt1 = \"\"\n",
    "\n",
    "prompt1 = add_text(prompt1, \"00_generalDefinition.txt\")\n",
    "prompt1 = add_text(prompt1, \"01_1_dataInput.txt\")\n",
    "prompt1 = add_csv(prompt1, useCase+\"/Platforms.csv\")\n",
    "prompt1 = add_csv(prompt1, useCase+\"/Sensors.csv\")\n",
    "prompt1 = add_text(prompt1, \"01_2_dataInput.txt\")\n",
    "\n",
    "save_to_file(prompt1, useCase + \"/Setting2/s2_prompt1.txt\")"
   ]
  },
  {
   "cell_type": "code",
   "execution_count": null,
   "metadata": {},
   "outputs": [],
   "source": [
    "prompt2 = \"\"\n",
    "\n",
    "prompt2 = add_text(prompt2, \"02_1_StateTypes.txt\")\n",
    "prompt2 = add_text(prompt2, useCase+\"/TriggerState.txt\")\n",
    "prompt2 = add_text(prompt2, \"02_2_StateTypes.txt\")\n",
    "\n",
    "save_to_file(prompt2, useCase + \"/Setting2/s2_prompt2.txt\")"
   ]
  },
  {
   "cell_type": "code",
   "execution_count": null,
   "metadata": {},
   "outputs": [],
   "source": [
    "prompt3 = \"\"\n",
    "\n",
    "prompt3 = add_text(prompt3, \"03_1_causalRelations.txt\")\n",
    "prompt3 += add_csv(prompt3, useCase+\"/1_StateTypes.csv\")\n",
    "prompt3 = add_text(prompt3, \"03_2_causalRelations.txt\")\n",
    "\n",
    "save_to_file(prompt3, useCase + \"/Setting2/s2_prompt3.txt\")"
   ]
  }
 ],
 "metadata": {
  "kernelspec": {
   "display_name": "sense",
   "language": "python",
   "name": "python3"
  },
  "language_info": {
   "codemirror_mode": {
    "name": "ipython",
    "version": 3
   },
   "file_extension": ".py",
   "mimetype": "text/x-python",
   "name": "python",
   "nbconvert_exporter": "python",
   "pygments_lexer": "ipython3",
   "version": "3.11.9"
  }
 },
 "nbformat": 4,
 "nbformat_minor": 2
}
